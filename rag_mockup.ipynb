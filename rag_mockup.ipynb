{
 "cells": [
  {
   "cell_type": "markdown",
   "metadata": {},
   "source": [
    "# RAG (Retrieve Augmented Generation) Mockup\n",
    "\n",
    "This is a mockup for the RAG system that allow to generate context-aware prompt to get the best from LLMs.\n",
    "This implementation is based on the langchain python framework to support RAG with different LLMs such as GPT, Gemini or Claude.\n",
    "\n",
    "Consider the following implementation as an idea of the possibility that a GenAI-based application have to exctract and retrieve high detailed content from specific documents. All the unstructured data (in this case a financial pdf document) is embedded and saved in a vector DB, to easily generate context based on user prompts."
   ]
  },
  {
   "cell_type": "code",
   "execution_count": 1,
   "metadata": {},
   "outputs": [],
   "source": [
    "import dotenv\n",
    "import bs4\n",
    "from langchain import hub\n",
    "from langchain_community.document_loaders import WebBaseLoader\n",
    "from langchain_chroma import Chroma\n",
    "from langchain_core.output_parsers import StrOutputParser\n",
    "from langchain_core.runnables import RunnablePassthrough\n",
    "from langchain_text_splitters import RecursiveCharacterTextSplitter"
   ]
  },
  {
   "cell_type": "code",
   "execution_count": 2,
   "metadata": {},
   "outputs": [],
   "source": [
    "import os\n",
    "from langchain_anthropic import ChatAnthropic\n",
    "\n",
    "# Load the API_KEYS to access LLMs and Embeddings models\n",
    "dotenv.load_dotenv()\n",
    "# ANTHROPIC_API_KEY = os.getenv('ANTHROPIC_API_KEY')\n",
    "# COHERE_API_KEY = os.getenv('COHERE_API_KEY)\n",
    "# print(ANTHROPIC_API_KEY, COHERE_API_KEY) # Check API keys are correctly loaded from .env file\n",
    "\n",
    "# Build the ChatAntropic object to interact with claude-3 LLM\n",
    "llm = ChatAnthropic(model=\"claude-3-sonnet-20240229\")"
   ]
  },
  {
   "cell_type": "code",
   "execution_count": 9,
   "metadata": {},
   "outputs": [
    {
     "name": "stdout",
     "output_type": "stream",
     "text": [
      "[Document(page_content='FINANCIAL KNOWLEDGE  │ 17 \\n \\nLEVELS OF FINANCIAL LITERACY IN CIS COUN TRIES \\n  3.4. Self-reported financial knowledge  \\nThere is a consistent pattern in terms of self -reported knowledge across the c ountries with \\nthe majority of people reporting that they believe they are about average  (Figure 3.5).  \\nHowever, respondents in Armenia are less likely  than those elsewhere  to consider \\nthemselves to have lower than average financial knowledge (just 8% did so) and more \\nlikely to rate themselv es as high  (20%). Respondents in Kazakhstan (74%) are \\nconsiderably more likely than the Russian respondents (59%) to put themselves around \\nthe average , whilst some 26% of respondents in the Russian Federation reported that their \\nknowledge was lower than av erage.    \\nFigure  3.5. Self-reported financial knowledge  \\nBase: all respondents (excluding non -responses). % of respondents reporting that their financial knowledge is \\nlower, about average  or higher than other adults in their country . Sorted by % of respondents with low self -\\nreported knowledge.  \\n \\nNote: The % may not sum to 100% due to rounding.  \\nSource: Russian Federation, 2016; OECD, 2018 . \\nIn all but Armenia and Kazakhstan there is a significant correlation between self -reported \\nknowledge and the financial knowledge score reported above. Figure 3.6 shows that, on \\naverage, people had  a realistic perspective of how their level of financial knowledge \\ncompared with that of  others in their country.  In Kazakhstan, people were as likely to \\nunderestimate as overestimate their knowledge, whilst in Armenia, only those believing \\nthat they had below average knowledge made a fair assessment . Low Average High\\nArmenia 8% 72% 20%\\nTajikistan 14% 68% 18%\\nAzerbaijan 15% 69% 16%\\nKyrgyz Republic 16% 67% 17%\\nKazakhstan 16% 74% 9%\\nBelarus 24% 66% 10%\\nRussian Federation 26% 59% 16%0%10%20%30%40%50%60%70%80%', metadata={'page': 17, 'source': './knowledge_base/financial-literacy-cis-countries-survey-EN.pdf'}), Document(page_content='FINANCIAL KNOWLEDGE  │ 17 \\n \\nLEVELS OF FINANCIAL LITERACY IN CIS COUN TRIES \\n  3.4. Self-reported financial knowledge  \\nThere is a consistent pattern in terms of self -reported knowledge across the c ountries with \\nthe majority of people reporting that they believe they are about average  (Figure 3.5).  \\nHowever, respondents in Armenia are less likely  than those elsewhere  to consider \\nthemselves to have lower than average financial knowledge (just 8% did so) and more \\nlikely to rate themselv es as high  (20%). Respondents in Kazakhstan (74%) are \\nconsiderably more likely than the Russian respondents (59%) to put themselves around \\nthe average , whilst some 26% of respondents in the Russian Federation reported that their \\nknowledge was lower than av erage.    \\nFigure  3.5. Self-reported financial knowledge  \\nBase: all respondents (excluding non -responses). % of respondents reporting that their financial knowledge is \\nlower, about average  or higher than other adults in their country . Sorted by % of respondents with low self -\\nreported knowledge.  \\n \\nNote: The % may not sum to 100% due to rounding.  \\nSource: Russian Federation, 2016; OECD, 2018 . \\nIn all but Armenia and Kazakhstan there is a significant correlation between self -reported \\nknowledge and the financial knowledge score reported above. Figure 3.6 shows that, on \\naverage, people had  a realistic perspective of how their level of financial knowledge \\ncompared with that of  others in their country.  In Kazakhstan, people were as likely to \\nunderestimate as overestimate their knowledge, whilst in Armenia, only those believing \\nthat they had below average knowledge made a fair assessment . Low Average High\\nArmenia 8% 72% 20%\\nTajikistan 14% 68% 18%\\nAzerbaijan 15% 69% 16%\\nKyrgyz Republic 16% 67% 17%\\nKazakhstan 16% 74% 9%\\nBelarus 24% 66% 10%\\nRussian Federation 26% 59% 16%0%10%20%30%40%50%60%70%80%', metadata={'page': 17, 'source': './knowledge_base/financial-literacy-cis-countries-survey-EN.pdf'}), Document(page_content='FINANCIAL KNOWLEDGE  │ 17 \\n \\nLEVELS OF FINANCIAL LITERACY IN CIS COUN TRIES \\n  3.4. Self-reported financial knowledge  \\nThere is a consistent pattern in terms of self -reported knowledge across the c ountries with \\nthe majority of people reporting that they believe they are about average  (Figure 3.5).  \\nHowever, respondents in Armenia are less likely  than those elsewhere  to consider \\nthemselves to have lower than average financial knowledge (just 8% did so) and more \\nlikely to rate themselv es as high  (20%). Respondents in Kazakhstan (74%) are \\nconsiderably more likely than the Russian respondents (59%) to put themselves around \\nthe average , whilst some 26% of respondents in the Russian Federation reported that their \\nknowledge was lower than av erage.    \\nFigure  3.5. Self-reported financial knowledge  \\nBase: all respondents (excluding non -responses). % of respondents reporting that their financial knowledge is \\nlower, about average  or higher than other adults in their country . Sorted by % of respondents with low self -\\nreported knowledge.  \\n \\nNote: The % may not sum to 100% due to rounding.  \\nSource: Russian Federation, 2016; OECD, 2018 . \\nIn all but Armenia and Kazakhstan there is a significant correlation between self -reported \\nknowledge and the financial knowledge score reported above. Figure 3.6 shows that, on \\naverage, people had  a realistic perspective of how their level of financial knowledge \\ncompared with that of  others in their country.  In Kazakhstan, people were as likely to \\nunderestimate as overestimate their knowledge, whilst in Armenia, only those believing \\nthat they had below average knowledge made a fair assessment . Low Average High\\nArmenia 8% 72% 20%\\nTajikistan 14% 68% 18%\\nAzerbaijan 15% 69% 16%\\nKyrgyz Republic 16% 67% 17%\\nKazakhstan 16% 74% 9%\\nBelarus 24% 66% 10%\\nRussian Federation 26% 59% 16%0%10%20%30%40%50%60%70%80%', metadata={'page': 17, 'source': './knowledge_base/financial-literacy-cis-countries-survey-EN.pdf'}), Document(page_content='18 │ FINANCIAL KNOWLEDGE  \\n \\nLEVELS OF FINANCIAL LITERACY IN CIS COUN TRIES \\n  Figure  3.6. Average  % correct responses on  financial knowledge by self -reported knowledge  \\nBase all respondents (excluding non -responses on self -reported knowledge). Average % of correct answers by \\nrespondents reporting that their financial knowledge is lower, about average or higher than other adults in \\ntheir country . Maximum financial knowledg e score is 7.   \\n  \\nNote: Lines are used to illustrate the general trend.  \\nSource: Russian Federation, 2016; OECD, 2018 .  \\n3.5. Differences  in financial knowledge  across the population  \\nTable 3.2 reports the results of regression analyses to explore the main predictors of \\nhigher levels of financial knowledge, including various socio -demographic factors. The \\nresults show that other thi ngs being equal, men were more likely than women to have a \\nhigh financial knowledge score in Armenia, Azerbaijan, Belarus and Tajikistan.  \\nThe size of the commune in which the respondent lived is also a significant predictor of \\nfinancial knowledge. Compared  with people in cities, financial knowledge was lower for \\nthose living in villages (and sometimes towns) in the Kyrgyz Republic, the Russian \\nFederation and Tajikistan.   \\nAge is not a significant predictor of financial knowledge in most of the countries  once \\nother factors are controlled for . However, in Azerbaijan, younger (20 to 39) and older \\nrespondents (70 to 79) ha d lower scores, on average, than those aged 40 to 49 , other \\nthings being equal , as did older adults (aged 70 -79) in Armenia .  \\nThose that ha d continued the ir education beyond high school  had higher levels of \\nfinancial knowledge in all but Armenia and Azerbaijan.  \\nInterestingly, those respondents who refused to state their income had significantly lower \\nlevels of financial knowledge than those at the median, as did those with below median \\nincomes, in most countries. Respondents with higher levels of income had significantly Low Average High\\nArmenia 47% 53% 52%\\nAzerbaijan 31% 46% 58%\\nBelarus 59% 64% 66%\\nKazakhstan 58% 59% 57%\\nKyrgyz Republic 27% 37% 46%\\nTajikistan 33% 38% 40%\\nRussian Federation 53% 63% 64%0%10%20%30%40%50%60%70%% OF CORRECT RESPONSES', metadata={'page': 18, 'source': './knowledge_base/financial-literacy-cis-countries-survey-EN.pdf'})]\n"
     ]
    }
   ],
   "source": [
    "# Load the pdf document and split it into pages.\n",
    "# Use Chroma vector store and the CohereEmbeddings to embed all the pages of the document.\n",
    "# Finally test the vectorstor to check if correctly retrieve part of the \n",
    "# document that are related to the input query.\n",
    "\n",
    "from langchain_cohere import CohereEmbeddings\n",
    "from langchain_community.document_loaders import PyPDFLoader\n",
    "\n",
    "loader = PyPDFLoader(\"./knowledge_base/financial-literacy-cis-countries-survey-EN.pdf\")\n",
    "pages = loader.load_and_split()\n",
    "vectorstore = Chroma.from_documents(documents=pages, embedding=CohereEmbeddings())\n",
    "\n",
    "response = vectorstore.similarity_search('Can you tell me something about the financial educational level in armenia?')\n",
    "print(response)"
   ]
  },
  {
   "cell_type": "code",
   "execution_count": 10,
   "metadata": {},
   "outputs": [
    {
     "name": "stdout",
     "output_type": "stream",
     "text": [
      "Based on the provided context, here are a few key points about financial educational level in Armenia:\n",
      "\n",
      "1) Respondents in Armenia were less likely than those in other countries surveyed to consider themselves as having lower than average financial knowledge (only 8% did so). \n",
      "\n",
      "2) Around 20% of respondents in Armenia rated themselves as having higher than average financial knowledge, which was one of the highest percentages across the countries surveyed.\n",
      "\n",
      "3) However, the data shows that in Armenia, only those believing they had below average knowledge made a fair self-assessment of their actual financial knowledge levels compared to others in their country. Those who rated themselves as having average or high knowledge tended to overestimate their knowledge levels.\n"
     ]
    }
   ],
   "source": [
    "# Retrieve and generate using the relevant snippets of the blog.\n",
    "retriever = vectorstore.as_retriever()\n",
    "prompt = hub.pull(\"rlm/rag-prompt\")\n",
    "\n",
    "def format_docs(docs):\n",
    "    return \"\\n\\n\".join(doc.page_content for doc in docs)\n",
    "\n",
    "# This is the incredible RunnableSequence type that is an implementation provided\n",
    "# by longchain framework to properly support the process of managing promts, context, llm and chat model.\n",
    "rag_chain = (\n",
    "    {\"context\": retriever | format_docs, \"question\": RunnablePassthrough()}\n",
    "    | prompt\n",
    "    | llm\n",
    "    | StrOutputParser()\n",
    ")\n",
    "# To simply obtain the response, just call the invoke function with the input prompt\n",
    "response = rag_chain.invoke(\"Can you tell me something about the financial educational level in armenia?\")\n",
    "print(response)"
   ]
  },
  {
   "cell_type": "code",
   "execution_count": 11,
   "metadata": {},
   "outputs": [],
   "source": [
    "# Cleanup vector DB\n",
    "vectorstore.delete_collection()"
   ]
  }
 ],
 "metadata": {
  "kernelspec": {
   "display_name": "llm_env",
   "language": "python",
   "name": "python3"
  },
  "language_info": {
   "codemirror_mode": {
    "name": "ipython",
    "version": 3
   },
   "file_extension": ".py",
   "mimetype": "text/x-python",
   "name": "python",
   "nbconvert_exporter": "python",
   "pygments_lexer": "ipython3",
   "version": "3.12.3"
  }
 },
 "nbformat": 4,
 "nbformat_minor": 2
}
